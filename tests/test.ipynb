{
 "cells": [
  {
   "cell_type": "code",
   "execution_count": 37,
   "id": "37300cd6",
   "metadata": {},
   "outputs": [
    {
     "name": "stdout",
     "output_type": "stream",
     "text": [
      "entry_id : http://arxiv.org/abs/2301.12345v1\n",
      "updated : 2023-01-29 03:59:33+00:00\n",
      "published : 2023-01-29 03:59:33+00:00\n",
      "title : Chemotactic motility-induced phase separation\n",
      "authors : [arxiv.Result.Author('Hongbo Zhao'), arxiv.Result.Author('Andrej Košmrlj'), arxiv.Result.Author('Sujit S. Datta')]\n",
      "summary : Collectives of actively-moving particles can spontaneously separate into\n",
      "dilute and dense phases -- a fascinating phenomenon known as motility-induced\n",
      "phase separation (MIPS). MIPS is well-studied for randomly-moving particles\n",
      "with no directional bias. However, many forms of active matter exhibit\n",
      "collective chemotaxis, directed motion along a chemical gradient that the\n",
      "constituent particles can generate themselves. Here, using theory and\n",
      "simulations, we demonstrate that collective chemotaxis strongly competes with\n",
      "MIPS -- in some cases, arresting or completely suppressing phase separation, or\n",
      "in other cases, generating fundamentally new dynamic instabilities. We\n",
      "establish quantitative principles describing this competition, thereby helping\n",
      "to reveal and clarify the rich physics underlying active matter systems that\n",
      "perform chemotaxis, ranging from cells to robots.\n",
      "comment : None\n",
      "journal_ref : None\n",
      "doi : None\n",
      "primary_category : physics.bio-ph\n",
      "categories : ['physics.bio-ph', 'cond-mat.soft', 'cond-mat.stat-mech', 'nlin.PS']\n",
      "links : [arxiv.Result.Link('http://arxiv.org/abs/2301.12345v1', title=None, rel='alternate', content_type=None), arxiv.Result.Link('http://arxiv.org/pdf/2301.12345v1', title='pdf', rel='related', content_type=None)]\n",
      "pdf_url : http://arxiv.org/pdf/2301.12345v1\n",
      "_raw : {'id': 'http://arxiv.org/abs/2301.12345v1', 'guidislink': True, 'link': 'http://arxiv.org/abs/2301.12345v1', 'updated': '2023-01-29T03:59:33Z', 'updated_parsed': time.struct_time(tm_year=2023, tm_mon=1, tm_mday=29, tm_hour=3, tm_min=59, tm_sec=33, tm_wday=6, tm_yday=29, tm_isdst=0), 'published': '2023-01-29T03:59:33Z', 'published_parsed': time.struct_time(tm_year=2023, tm_mon=1, tm_mday=29, tm_hour=3, tm_min=59, tm_sec=33, tm_wday=6, tm_yday=29, tm_isdst=0), 'title': 'Chemotactic motility-induced phase separation', 'title_detail': {'type': 'text/plain', 'language': None, 'base': '', 'value': 'Chemotactic motility-induced phase separation'}, 'summary': 'Collectives of actively-moving particles can spontaneously separate into\\ndilute and dense phases -- a fascinating phenomenon known as motility-induced\\nphase separation (MIPS). MIPS is well-studied for randomly-moving particles\\nwith no directional bias. However, many forms of active matter exhibit\\ncollective chemotaxis, directed motion along a chemical gradient that the\\nconstituent particles can generate themselves. Here, using theory and\\nsimulations, we demonstrate that collective chemotaxis strongly competes with\\nMIPS -- in some cases, arresting or completely suppressing phase separation, or\\nin other cases, generating fundamentally new dynamic instabilities. We\\nestablish quantitative principles describing this competition, thereby helping\\nto reveal and clarify the rich physics underlying active matter systems that\\nperform chemotaxis, ranging from cells to robots.', 'summary_detail': {'type': 'text/plain', 'language': None, 'base': '', 'value': 'Collectives of actively-moving particles can spontaneously separate into\\ndilute and dense phases -- a fascinating phenomenon known as motility-induced\\nphase separation (MIPS). MIPS is well-studied for randomly-moving particles\\nwith no directional bias. However, many forms of active matter exhibit\\ncollective chemotaxis, directed motion along a chemical gradient that the\\nconstituent particles can generate themselves. Here, using theory and\\nsimulations, we demonstrate that collective chemotaxis strongly competes with\\nMIPS -- in some cases, arresting or completely suppressing phase separation, or\\nin other cases, generating fundamentally new dynamic instabilities. We\\nestablish quantitative principles describing this competition, thereby helping\\nto reveal and clarify the rich physics underlying active matter systems that\\nperform chemotaxis, ranging from cells to robots.'}, 'authors': [{'name': 'Hongbo Zhao'}, {'name': 'Andrej Košmrlj'}, {'name': 'Sujit S. Datta'}], 'author_detail': {'name': 'Sujit S. Datta'}, 'author': 'Sujit S. Datta', 'links': [{'href': 'http://arxiv.org/abs/2301.12345v1', 'rel': 'alternate', 'type': 'text/html'}, {'title': 'pdf', 'href': 'http://arxiv.org/pdf/2301.12345v1', 'rel': 'related', 'type': 'application/pdf'}], 'arxiv_primary_category': {'term': 'physics.bio-ph', 'scheme': 'http://arxiv.org/schemas/atom'}, 'tags': [{'term': 'physics.bio-ph', 'scheme': 'http://arxiv.org/schemas/atom', 'label': None}, {'term': 'cond-mat.soft', 'scheme': 'http://arxiv.org/schemas/atom', 'label': None}, {'term': 'cond-mat.stat-mech', 'scheme': 'http://arxiv.org/schemas/atom', 'label': None}, {'term': 'nlin.PS', 'scheme': 'http://arxiv.org/schemas/atom', 'label': None}]}\n"
     ]
    }
   ],
   "source": [
    "import arxiv\n",
    "\n",
    "client = arxiv.Client(\n",
    "  page_size=1,\n",
    ")\n",
    "\n",
    "search = arxiv.Search(\n",
    "    query=\"\",\n",
    "    max_results=1,\n",
    "    sort_by=arxiv.SortCriterion.SubmittedDate,\n",
    "    sort_order=arxiv.SortOrder.Descending,\n",
    "    id_list=[\"2301.12345v1\"]\n",
    ")\n",
    "\n",
    "result = next(client.results(search))\n",
    "for attr, value in vars(result).items():\n",
    "  print(attr,\":\",value)\n",
    "    \n",
    "# print(\"ID:\", result.entry_id)\n",
    "# print(\"標題:\", result.title)\n",
    "# print(\"摘要:\", result.summary)\n",
    "# print(\"作者:\", \", \".join(str(a) for a in result.authors))\n",
    "# print(\"主分類:\", result.primary_category)\n",
    "# print(\"其他分類:\", \", \".join(result.categories))\n",
    "# print(\"發表日期:\", result.published)\n",
    "# print(\"更新日期:\", result.updated)\n",
    "# print(\"期刊/會議資訊:\", result.journal_ref)\n",
    "# print(\"DOI:\", result.doi)\n",
    "# print(\"PDF_url:\", result.pdf_url)\n"
   ]
  },
  {
   "cell_type": "code",
   "execution_count": 38,
   "id": "a094a614",
   "metadata": {},
   "outputs": [
    {
     "name": "stdout",
     "output_type": "stream",
     "text": [
      "Saved (10 papers) to arxiv_data/arxiv_batch_1.json\n",
      "Saved (10 papers) to arxiv_data/arxiv_batch_2.json\n",
      "Saved (10 papers) to arxiv_data/arxiv_batch_3.json\n",
      "Saved (10 papers) to arxiv_data/arxiv_batch_4.json\n",
      "Saved (10 papers) to arxiv_data/arxiv_batch_5.json\n"
     ]
    }
   ],
   "source": [
    "import arxiv\n",
    "import json\n",
    "from pathlib import Path\n",
    "\n",
    "client = arxiv.Client(\n",
    "    page_size=10, # limit 1000\n",
    "    delay_seconds=3,\n",
    "    num_retries=3\n",
    ")\n",
    "\n",
    "search = arxiv.Search(\n",
    "    query='cat:cs.LG',\n",
    "    max_results=50,\n",
    "    sort_by=arxiv.SortCriterion.SubmittedDate,\n",
    "    sort_order=arxiv.SortOrder.Descending\n",
    ")\n",
    "\n",
    "\n",
    "BATCH_SIZE = 10 \n",
    "output_dir = Path(\"arxiv_data\")\n",
    "output_dir.mkdir(exist_ok=True)\n",
    "\n",
    "\n",
    "batch = []\n",
    "batch_count = 1\n",
    "\n",
    "for idx, result in enumerate(client.results(search), start=1):\n",
    "    paper = {\n",
    "        \"entry_id\": result.entry_id,\n",
    "        \"title\": result.title,\n",
    "        \"authors\": [a.name for a in result.authors],\n",
    "        \"summary\": result.summary,\n",
    "        \"primary_category\": result.primary_category,\n",
    "        \"categories\": result.categories,\n",
    "        \"published\": result.published.isoformat(),\n",
    "        \"updated\": result.updated.isoformat(),\n",
    "        \"journal_ref\": result.journal_ref,\n",
    "        \"doi\": result.doi\n",
    "    }\n",
    "    batch.append(paper)\n",
    "\n",
    "    if len(batch) >= BATCH_SIZE:\n",
    "        filename = output_dir / f\"arxiv_batch_{batch_count}.json\"\n",
    "        with open(filename, \"w\", encoding=\"utf-8\") as f:\n",
    "            json.dump(batch, f, ensure_ascii=False, indent=2)\n",
    "        print(f\"Saved ({len(batch)} papers) to {filename}\")\n",
    "        batch_count += 1\n",
    "        batch = []\n",
    "\n",
    "if batch:\n",
    "    filename = output_dir / f\"arxiv_batch_{batch_count}.json\"\n",
    "    with open(filename, \"w\", encoding=\"utf-8\") as f:\n",
    "        json.dump(batch, f, ensure_ascii=False, indent=2)\n",
    "    print(f\"Saved final ({len(batch)} papers) to {filename}\")\n"
   ]
  },
  {
   "cell_type": "code",
   "execution_count": null,
   "id": "c1c6da3a",
   "metadata": {},
   "outputs": [
    {
     "name": "stdout",
     "output_type": "stream",
     "text": [
      "{'entry_id': 'http://arxiv.org/abs/2510.11713v1', 'title': 'Are Large Reasoning Models Interruptible?', 'authors': ['Tsung-Han Wu', 'Mihran Miroyan', 'David M. Chan', 'Trevor Darrell', 'Narges Norouzi', 'Joseph E. Gonzalez'], 'summary': 'Large Reasoning Models (LRMs) excel at complex reasoning but are\\ntraditionally evaluated in static, \"frozen world\" settings: model responses are\\nassumed to be instantaneous, and the context of a request is presumed to be\\nimmutable over the duration of the response. While generally true for\\nshort-term tasks, the \"frozen world\" assumption breaks down in modern reasoning\\ntasks such as assistive programming, where models may take hours to think\\nthrough problems and code may change dramatically from the time the model\\nstarts thinking to the model\\'s final output. In this work, we challenge the\\nfrozen world assumption and evaluate LRM robustness under two realistic dynamic\\nscenarios: interruptions, which test the quality of the model\\'s partial outputs\\non a limited budget, and dynamic context, which tests model adaptation to\\nin-flight changes. Across mathematics and programming benchmarks that require\\nlong-form reasoning, static evaluations consistently overestimate robustness:\\neven state-of-the-art LRMs, which achieve high accuracy in static settings, can\\nfail unpredictably when interrupted or exposed to changing context, with\\nperformance dropping by up to 60% when updates are introduced late in the\\nreasoning process. Our analysis further reveals several novel failure modes,\\nincluding reasoning leakage, where models fold the reasoning into their final\\nanswer when interrupted; panic, where under time pressure models abandon\\nreasoning entirely and return incorrect answers; and self-doubt, where\\nperformance degrades while incorporating updated information.', 'primary_category': 'cs.CL', 'categories': ['cs.CL', 'cs.LG'], 'published': '2025-10-13T17:59:35+00:00', 'updated': '2025-10-13T17:59:35+00:00', 'journal_ref': None, 'doi': None, 'published_date': '2025-10-13', 'updated_date': '2025-10-13', 'etl_datetime': '2025-10-14 12:00:27'}\n",
      "{'entry_id': 'http://arxiv.org/abs/2510.11711v1', 'title': 'Reinforced sequential Monte Carlo for amortised sampling', 'authors': ['Sanghyeok Choi', 'Sarthak Mittal', 'Víctor Elvira', 'Jinkyoo Park', 'Nikolay Malkin'], 'summary': 'This paper proposes a synergy of amortised and particle-based methods for\\nsampling from distributions defined by unnormalised density functions. We state\\na connection between sequential Monte Carlo (SMC) and neural sequential\\nsamplers trained by maximum-entropy reinforcement learning (MaxEnt RL), wherein\\nlearnt sampling policies and value functions define proposal kernels and twist\\nfunctions. Exploiting this connection, we introduce an off-policy RL training\\nprocedure for the sampler that uses samples from SMC -- using the learnt\\nsampler as a proposal -- as a behaviour policy that better explores the target\\ndistribution. We describe techniques for stable joint training of proposals and\\ntwist functions and an adaptive weight tempering scheme to reduce training\\nsignal variance. Furthermore, building upon past attempts to use experience\\nreplay to guide the training of neural samplers, we derive a way to combine\\nhistorical samples with annealed importance sampling weights within a replay\\nbuffer. On synthetic multi-modal targets (in both continuous and discrete\\nspaces) and the Boltzmann distribution of alanine dipeptide conformations, we\\ndemonstrate improvements in approximating the true distribution as well as\\ntraining stability compared to both amortised and Monte Carlo methods.', 'primary_category': 'cs.LG', 'categories': ['cs.LG', 'stat.ML'], 'published': '2025-10-13T17:59:11+00:00', 'updated': '2025-10-13T17:59:11+00:00', 'journal_ref': None, 'doi': None, 'published_date': '2025-10-13', 'updated_date': '2025-10-13', 'etl_datetime': '2025-10-14 12:00:27'}\n",
      "{'entry_id': 'http://arxiv.org/abs/2510.11709v1', 'title': 'Adversarial Attacks Leverage Interference Between Features in Superposition', 'authors': ['Edward Stevinson', 'Lucas Prieto', 'Melih Barsbey', 'Tolga Birdal'], 'summary': \"Fundamental questions remain about when and why adversarial examples arise in\\nneural networks, with competing views characterising them either as artifacts\\nof the irregularities in the decision landscape or as products of sensitivity\\nto non-robust input features. In this paper, we instead argue that adversarial\\nvulnerability can stem from efficient information encoding in neural networks.\\nSpecifically, we show how superposition - where networks represent more\\nfeatures than they have dimensions - creates arrangements of latent\\nrepresentations that adversaries can exploit. We demonstrate that adversarial\\nperturbations leverage interference between superposed features, making attack\\npatterns predictable from feature arrangements. Our framework provides a\\nmechanistic explanation for two known phenomena: adversarial attack\\ntransferability between models with similar training regimes and class-specific\\nvulnerability patterns. In synthetic settings with precisely controlled\\nsuperposition, we establish that superposition suffices to create adversarial\\nvulnerability. We then demonstrate that these findings persist in a ViT trained\\non CIFAR-10. These findings reveal adversarial vulnerability can be a byproduct\\nof networks' representational compression, rather than flaws in the learning\\nprocess or non-robust inputs.\", 'primary_category': 'cs.LG', 'categories': ['cs.LG', 'cs.AI', 'cs.CV'], 'published': '2025-10-13T17:59:02+00:00', 'updated': '2025-10-13T17:59:02+00:00', 'journal_ref': None, 'doi': None, 'published_date': '2025-10-13', 'updated_date': '2025-10-13', 'etl_datetime': '2025-10-14 12:00:27'}\n",
      "{'entry_id': 'http://arxiv.org/abs/2510.11696v1', 'title': 'QeRL: Beyond Efficiency -- Quantization-enhanced Reinforcement Learning for LLMs', 'authors': ['Wei Huang', 'Yi Ge', 'Shuai Yang', 'Yicheng Xiao', 'Huizi Mao', 'Yujun Lin', 'Hanrong Ye', 'Sifei Liu', 'Ka Chun Cheung', 'Hongxu Yin', 'Yao Lu', 'Xiaojuan Qi', 'Song Han', 'Yukang Chen'], 'summary': \"We propose QeRL, a Quantization-enhanced Reinforcement Learning framework for\\nlarge language models (LLMs). While RL is essential for LLMs' reasoning\\ncapabilities, it is resource-intensive, requiring substantial GPU memory and\\nlong rollout durations. QeRL addresses these issues by combining NVFP4\\nquantization with Low-Rank Adaptation (LoRA), accelerating rollout phase of RL\\nwhile reducing memory overhead. Beyond efficiency, our findings show that\\nquantization noise increases policy entropy, enhancing exploration, and\\nenabling the discovery of better strategies during RL. To further optimize\\nexploration, QeRL introduces an Adaptive Quantization Noise (AQN) mechanism,\\nwhich dynamically adjusts noise during training. Experiments demonstrate that\\nQeRL delivers over 1.5 times speedup in the rollout phase. Moreover, this is\\nthe first framework to enable RL training of a 32B LLM on a single H100 80GB\\nGPU, while delivering overall speedups for RL training. It also achieves faster\\nreward growth and higher final accuracy than 16-bit LoRA and QLoRA, while\\nmatching the performance of full-parameter fine-tuning on mathematical\\nbenchmarks such as GSM8K (90.8%) and MATH 500 (77.4%) in the 7B model. These\\nresults establish QeRL as an efficient and effective framework for RL training\\nin LLMs.\", 'primary_category': 'cs.LG', 'categories': ['cs.LG', 'cs.CL', 'cs.CV'], 'published': '2025-10-13T17:55:09+00:00', 'updated': '2025-10-13T17:55:09+00:00', 'journal_ref': None, 'doi': None, 'published_date': '2025-10-13', 'updated_date': '2025-10-13', 'etl_datetime': '2025-10-14 12:00:27'}\n",
      "{'entry_id': 'http://arxiv.org/abs/2510.11691v1', 'title': 'Tight Regret Upper and Lower Bounds for Optimistic Hedge in Two-Player Zero-Sum Games', 'authors': ['Taira Tsuchiya'], 'summary': \"In two-player zero-sum games, the learning dynamic based on optimistic Hedge\\nachieves one of the best-known regret upper bounds among strongly-uncoupled\\nlearning dynamics. With an appropriately chosen learning rate, the social and\\nindividual regrets can be bounded by $O(\\\\log(mn))$ in terms of the numbers of\\nactions $m$ and $n$ of the two players. This study investigates the optimality\\nof the dependence on $m$ and $n$ in the regret of optimistic Hedge. To this\\nend, we begin by refining existing regret analysis and show that, in the\\nstrongly-uncoupled setting where the opponent's number of actions is known,\\nboth the social and individual regret bounds can be improved to $O(\\\\sqrt{\\\\log m\\n\\\\log n})$. In this analysis, we express the regret upper bound as an\\noptimization problem with respect to the learning rates and the coefficients of\\ncertain negative terms, enabling refined analysis of the leading constants. We\\nthen show that the existing social regret bound as well as these new social and\\nindividual regret upper bounds cannot be further improved for optimistic Hedge\\nby providing algorithm-dependent individual regret lower bounds. Importantly,\\nthese social regret upper and lower bounds match exactly including the constant\\nfactor in the leading term. Finally, building on these results, we improve the\\nlast-iterate convergence rate and the dynamic regret of a learning dynamic\\nbased on optimistic Hedge, and complement these bounds with algorithm-dependent\\ndynamic regret lower bounds that match the improved bounds.\", 'primary_category': 'cs.LG', 'categories': ['cs.LG', 'cs.GT', 'stat.ML'], 'published': '2025-10-13T17:52:01+00:00', 'updated': '2025-10-13T17:52:01+00:00', 'journal_ref': None, 'doi': None, 'published_date': '2025-10-13', 'updated_date': '2025-10-13', 'etl_datetime': '2025-10-14 12:00:27'}\n",
      "{'entry_id': 'http://arxiv.org/abs/2510.11690v1', 'title': 'Diffusion Transformers with Representation Autoencoders', 'authors': ['Boyang Zheng', 'Nanye Ma', 'Shengbang Tong', 'Saining Xie'], 'summary': 'Latent generative modeling, where a pretrained autoencoder maps pixels into a\\nlatent space for the diffusion process, has become the standard strategy for\\nDiffusion Transformers (DiT); however, the autoencoder component has barely\\nevolved. Most DiTs continue to rely on the original VAE encoder, which\\nintroduces several limitations: outdated backbones that compromise\\narchitectural simplicity, low-dimensional latent spaces that restrict\\ninformation capacity, and weak representations that result from purely\\nreconstruction-based training and ultimately limit generative quality. In this\\nwork, we explore replacing the VAE with pretrained representation encoders\\n(e.g., DINO, SigLIP, MAE) paired with trained decoders, forming what we term\\nRepresentation Autoencoders (RAEs). These models provide both high-quality\\nreconstructions and semantically rich latent spaces, while allowing for a\\nscalable transformer-based architecture. Since these latent spaces are\\ntypically high-dimensional, a key challenge is enabling diffusion transformers\\nto operate effectively within them. We analyze the sources of this difficulty,\\npropose theoretically motivated solutions, and validate them empirically. Our\\napproach achieves faster convergence without auxiliary representation alignment\\nlosses. Using a DiT variant equipped with a lightweight, wide DDT head, we\\nachieve strong image generation results on ImageNet: 1.51 FID at 256x256 (no\\nguidance) and 1.13 at both 256x256 and 512x512 (with guidance). RAE offers\\nclear advantages and should be the new default for diffusion transformer\\ntraining.', 'primary_category': 'cs.CV', 'categories': ['cs.CV', 'cs.LG'], 'published': '2025-10-13T17:51:39+00:00', 'updated': '2025-10-13T17:51:39+00:00', 'journal_ref': None, 'doi': None, 'published_date': '2025-10-13', 'updated_date': '2025-10-13', 'etl_datetime': '2025-10-14 12:00:27'}\n",
      "{'entry_id': 'http://arxiv.org/abs/2510.11686v1', 'title': 'Representation-Based Exploration for Language Models: From Test-Time to Post-Training', 'authors': ['Jens Tuyls', 'Dylan J. Foster', 'Akshay Krishnamurthy', 'Jordan T. Ash'], 'summary': \"Reinforcement learning (RL) promises to expand the capabilities of language\\nmodels, but it is unclear if current RL techniques promote the discovery of\\nnovel behaviors, or simply sharpen those already present in the base model. In\\nthis paper, we investigate the value of deliberate exploration -- explicitly\\nincentivizing the model to discover novel and diverse behaviors -- and aim to\\nunderstand how the knowledge in pre-trained models can guide this search. Our\\nmain finding is that exploration with a simple, principled,\\nrepresentation-based bonus derived from the pre-trained language model's hidden\\nstates significantly improves diversity and pass@k rates -- both for\\npost-training, and in a novel inference-time scaling setting we introduce. For\\ninference-time, exploration with representation-based diversity improves\\nefficiency, consistently improving pass@k rates across a variety of models and\\nreasoning tasks. For example, for Qwen-2.5-14b-Instruct we obtain over 50%\\nimprovement in verifier efficiency on almost all tasks. For post-training, we\\nshow that integrating this exploration strategy into an RL pipeline improves\\nreasoning performance over that of the initial model and over standard RL\\npost-training. For example, on AIME 2024, our post-trained\\nQwen-2.5-7b-Instruct's pass@80 matches the pass@256 of GRPO on the same model,\\ndemonstrating a 3x improvement in test-time sample efficiency. Overall, our\\nfindings suggest that deliberate exploration -- with the right notion of\\ndiversity -- is a practical path toward discovery of new behaviors beyond\\nsharpening.\", 'primary_category': 'cs.LG', 'categories': ['cs.LG', 'cs.AI'], 'published': '2025-10-13T17:49:05+00:00', 'updated': '2025-10-13T17:49:05+00:00', 'journal_ref': None, 'doi': None, 'published_date': '2025-10-13', 'updated_date': '2025-10-13', 'etl_datetime': '2025-10-14 12:00:27'}\n",
      "{'entry_id': 'http://arxiv.org/abs/2510.11683v1', 'title': 'Boundary-Guided Policy Optimization for Memory-efficient RL of Diffusion Large Language Models', 'authors': ['Nianyi Lin', 'Jiajie Zhang', 'Lei Hou', 'Juanzi Li'], 'summary': 'A key challenge in applying reinforcement learning (RL) to diffusion large\\nlanguage models (dLLMs) lies in the intractability of their likelihood\\nfunctions, which are essential for the RL objective, necessitating\\ncorresponding approximation in each training step. While existing methods\\napproximate the log-likelihoods by their evidence lower bounds (ELBOs) via\\ncustomized Monte Carlo (MC) sampling, the forward computational graphs of all\\nMC samples need to be retained for the gradient computation of non-linear terms\\nin the RL objective, resulting in significant memory overhead. This constraint\\nrestricts feasible sample sizes, leading to imprecise likelihood approximations\\nand ultimately distorting the RL objective. To overcome this limitation, we\\npropose \\\\emph{Boundary-Guided Policy Optimization} (BGPO), a memory-efficient\\nRL algorithm that maximizes a specially constructed lower bound of the\\nELBO-based objective. This lower bound is carefully designed to satisfy two key\\nproperties: (1) Linearity: it is formulated in a linear sum where each term\\ndepends only on a single MC sample, thereby enabling gradient accumulation\\nacross samples and ensuring constant memory usage; (2) Equivalence: Both the\\nvalue and gradient of this lower bound are equal to those of the ELBO-based\\nobjective in on-policy training, making it also an effective approximation for\\nthe original RL objective. These properties allow BGPO to adopt a large MC\\nsample size, resulting in more accurate likelihood approximations and improved\\nRL objective estimation, which in turn leads to enhanced performance.\\nExperiments show that BGPO significantly outperforms previous RL algorithms for\\ndLLMs in math problem solving, code generation, and planning tasks.', 'primary_category': 'cs.LG', 'categories': ['cs.LG', 'cs.AI', 'cs.CL'], 'published': '2025-10-13T17:47:50+00:00', 'updated': '2025-10-13T17:47:50+00:00', 'journal_ref': None, 'doi': None, 'published_date': '2025-10-13', 'updated_date': '2025-10-13', 'etl_datetime': '2025-10-14 12:00:27'}\n",
      "{'entry_id': 'http://arxiv.org/abs/2510.11677v1', 'title': 'Chronologically Consistent Generative AI', 'authors': ['Songrun He', 'Linying Lv', 'Asaf Manela', 'Jimmy Wu'], 'summary': 'We introduce a family of chronologically consistent, instruction-following\\nlarge language models to eliminate lookahead bias. Each model is trained only\\non data available before a clearly defined knowledge-cutoff date, ensuring\\nstrict temporal separation from any post-cutoff data. The resulting framework\\noffers (i) a simple, conversational chat interface, (ii) fully open, fixed\\nmodel weights that guarantee replicability, and (iii) a conservative lower\\nbound on forecast accuracy, isolating the share of predictability that survives\\nonce training leakage is removed. Together, these features provide researchers\\nwith an easy-to-use generative AI tool useful for a wide range of prediction\\ntasks that is free of lookahead bias.', 'primary_category': 'cs.LG', 'categories': ['cs.LG', 'q-fin.GN'], 'published': '2025-10-13T17:45:24+00:00', 'updated': '2025-10-13T17:45:24+00:00', 'journal_ref': None, 'doi': None, 'published_date': '2025-10-13', 'updated_date': '2025-10-13', 'etl_datetime': '2025-10-14 12:00:27'}\n",
      "{'entry_id': 'http://arxiv.org/abs/2510.11676v1', 'title': 'Accelerated stochastic first-order method for convex optimization under heavy-tailed noise', 'authors': ['Chuan He', 'Zhaosong Lu'], 'summary': 'We study convex composite optimization problems, where the objective function\\nis given by the sum of a prox-friendly function and a convex function whose\\nsubgradients are estimated under heavy-tailed noise. Existing work often\\nemploys gradient clipping or normalization techniques in stochastic first-order\\nmethods to address heavy-tailed noise. In this paper, we demonstrate that a\\nvanilla stochastic algorithm -- without additional modifications such as\\nclipping or normalization -- can achieve optimal complexity for these problems.\\nIn particular, we establish that an accelerated stochastic proximal subgradient\\nmethod achieves a first-order oracle complexity that is universally optimal for\\nsmooth, weakly smooth, and nonsmooth convex optimization, as well as for\\nstochastic convex optimization under heavy-tailed noise. Numerical experiments\\nare further provided to validate our theoretical results.', 'primary_category': 'math.OC', 'categories': ['math.OC', 'cs.AI', 'cs.LG', 'stat.ML', '49M05, 49M37, 90C25, 90C30'], 'published': '2025-10-13T17:45:05+00:00', 'updated': '2025-10-13T17:45:05+00:00', 'journal_ref': None, 'doi': None, 'published_date': '2025-10-13', 'updated_date': '2025-10-13', 'etl_datetime': '2025-10-14 12:00:27'}\n"
     ]
    }
   ],
   "source": [
    "import json\n",
    "from pathlib import Path\n",
    "from datetime import datetime, timezone\n",
    "\n",
    "input_file = Path(\"arxiv_data/arxiv_batch_1.json\")\n",
    "output_file = Path(\"arxiv_data/arxiv_batch_cleaned.json\")\n",
    "\n",
    "def transform_datetime2date(dt_str):\n",
    "    try:\n",
    "        dt = datetime.fromisoformat(dt_str.replace(\"Z\", \"+00:00\"))\n",
    "        return dt.strftime(\"%Y-%m-%d\")\n",
    "    except Exception:\n",
    "        return None\n",
    "\n",
    "with open(input_file, \"r\", encoding=\"utf-8\") as f:\n",
    "    papers = json.load(f)\n",
    "\n",
    "# 去重\n",
    "unique_papers = {paper[\"entry_id\"]: paper for paper in papers}\n",
    "\n",
    "\n",
    "required_fields = [\n",
    "    \"entry_id\", \"title\", \"summary\", \"authors\", \n",
    "    \"primary_category\", \"published\", \"updated\"\n",
    "]\n",
    "\n",
    "cleaned_papers = []\n",
    "for paper in unique_papers.values():\n",
    "    # 刪除缺值資料\n",
    "    if all(paper.get(field) for field in required_fields) and all(a.strip() for a in paper[\"authors\"]):\n",
    "        paper[\"published_date\"] = transform_datetime2date(paper[\"published\"])\n",
    "        paper[\"updated_date\"] = transform_datetime2date(paper[\"updated\"])\n",
    "        paper[\"etl_datetime\"] = datetime.now(timezone.utc).strftime(\"%Y-%m-%d %H:%M:%S\") # use UTC timezone\n",
    "        cleaned_papers.append(paper)\n",
    "\n",
    "for paper in cleaned_papers:\n",
    "    print(paper)\n",
    "\n",
    "# with open(output_file, \"w\", encoding=\"utf-8\") as f:\n",
    "#     json.dump(cleaned_papers, f, ensure_ascii=False, indent=2)\n",
    "\n",
    "# print(f\"清理完成，共 {len(cleaned_papers)} 筆，已儲存到 {output_file}\")\n"
   ]
  },
  {
   "cell_type": "code",
   "execution_count": null,
   "id": "489ce2fd",
   "metadata": {},
   "outputs": [],
   "source": [
    "import boto3\n",
    "from botocore.exceptions import ClientError\n",
    "\n",
    "# 建立 DynamoDB 連線\n",
    "dynamodb = boto3.resource(\n",
    "    'dynamodb',\n",
    "    aws_access_key_id='',\n",
    "    aws_secret_access_key='',\n",
    "    region_name='ap-southeast-2'\n",
    ")\n",
    "\n",
    "# 指定 table 名稱\n",
    "table = dynamodb.Table('download_paper_entry_id')\n"
   ]
  },
  {
   "cell_type": "code",
   "execution_count": 70,
   "id": "5adf2a4a",
   "metadata": {},
   "outputs": [
    {
     "name": "stdout",
     "output_type": "stream",
     "text": [
      "已新增\n"
     ]
    }
   ],
   "source": [
    "from datetime import datetime, timezone\n",
    "\n",
    "entry_id = \"http://arxiv.org/abs/2510.11683v1\"\n",
    "item = {\n",
    "    \"entry_id\": entry_id,\n",
    "    \"status\": \"uploaded\",  # \"failed\"\n",
    "    \"last_attempt\": datetime.now(timezone.utc).strftime(\"%Y-%m-%d %H:%M:%S\"),\n",
    "    \"error_msg\": \"\" \n",
    "}\n",
    "\n",
    "try:\n",
    "    table.put_item(\n",
    "        Item=item,\n",
    "        ConditionExpression='attribute_not_exists(entry_id)'\n",
    "    )\n",
    "    print(\"已新增\")\n",
    "except ClientError as e:\n",
    "    if e.response['Error']['Code'] == 'ConditionalCheckFailedException':\n",
    "        print(\"這篇 paper 已存在\")\n",
    "    else:\n",
    "        raise\n"
   ]
  },
  {
   "cell_type": "code",
   "execution_count": 71,
   "id": "60adb45c",
   "metadata": {},
   "outputs": [
    {
     "name": "stdout",
     "output_type": "stream",
     "text": [
      "已存在 {'entry_id': 'http://arxiv.org/abs/2510.11683v1', 'last_attempt': '2025-10-14 15:15:24', 'error_msg': '', 'status': 'uploaded'}\n"
     ]
    }
   ],
   "source": [
    "response = table.get_item(Key={'entry_id': entry_id})\n",
    "item = response.get('Item')\n",
    "\n",
    "if item:\n",
    "    print(\"已存在\", item)\n",
    "else:\n",
    "    print(\"不存在\")\n"
   ]
  },
  {
   "cell_type": "code",
   "execution_count": 66,
   "id": "2c81b76e",
   "metadata": {},
   "outputs": [
    {
     "name": "stdout",
     "output_type": "stream",
     "text": [
      "http://arxiv.org/abs/2510.11683v1\n"
     ]
    }
   ],
   "source": [
    "print(entry_id)"
   ]
  },
  {
   "cell_type": "code",
   "execution_count": null,
   "id": "deb0eed3",
   "metadata": {},
   "outputs": [
    {
     "name": "stderr",
     "output_type": "stream",
     "text": [
      "INFO:botocore.credentials:Found credentials in environment variables.\n"
     ]
    },
    {
     "name": "stdout",
     "output_type": "stream",
     "text": [
      "Bucket 'my-test-bucket' created.\n",
      "Prefix 'raw/domain=cs.LG/' created.\n",
      "Uploaded JSON to raw/domain=cs.LG/example.json\n",
      "Bucket contents:\n",
      " - raw/domain=cs.LG/.keep\n",
      " - raw/domain=cs.LG/example.json\n"
     ]
    }
   ],
   "source": [
    "from moto import mock_aws\n",
    "import boto3\n",
    "import json\n",
    "\n",
    "# -----------------------------\n",
    "# 用 decorator 或 context manager 模擬 S3\n",
    "# -----------------------------\n",
    "@mock_aws  # <-- 使用通用的 mock_aws\n",
    "def test_s3_operations():\n",
    "    # 建立 S3 client\n",
    "    s3 = boto3.client(\"s3\", region_name=\"us-east-1\")\n",
    "\n",
    "    # 1️⃣ 建立 bucket\n",
    "    bucket_name = \"my-test-bucket\"\n",
    "    s3.create_bucket(Bucket=bucket_name) \n",
    "    print(f\"Bucket '{bucket_name}' created.\")\n",
    "\n",
    "    # 2️⃣ 建立 prefix / 資料夾\n",
    "    domain = \"cs.LG\"\n",
    "    prefix = f\"raw/domain={domain}/\"\n",
    "    s3.put_object(Bucket=bucket_name, Key=(prefix + \".keep\"), Body=b'')\n",
    "    print(f\"Prefix '{prefix}' created.\")\n",
    "\n",
    "    # 3️⃣ 上傳 JSON\n",
    "    sample_data = {\"title\": \"Example arXiv Paper\", \"id\": \"1234.5678\"}\n",
    "    key = prefix + \"example.json\"\n",
    "    s3.put_object(\n",
    "        Bucket=bucket_name,\n",
    "        Key=key,\n",
    "        Body=json.dumps(sample_data),\n",
    "        ContentType=\"application/json\"\n",
    "    )\n",
    "    print(f\"Uploaded JSON to {key}\")\n",
    "\n",
    "    # 4️⃣ 列出 bucket 內容\n",
    "    response = s3.list_objects_v2(Bucket=bucket_name, Prefix=prefix)\n",
    "    print(\"Bucket contents:\")\n",
    "    for obj in response.get(\"Contents\", []):\n",
    "        print(\" -\", obj[\"Key\"])\n",
    "\n",
    "# -----------------------------\n",
    "# 執行測試\n",
    "# -----------------------------\n",
    "if __name__ == \"__main__\":\n",
    "    test_s3_operations()"
   ]
  }
 ],
 "metadata": {
  "kernelspec": {
   "display_name": ".venv (3.11.14)",
   "language": "python",
   "name": "python3"
  },
  "language_info": {
   "codemirror_mode": {
    "name": "ipython",
    "version": 3
   },
   "file_extension": ".py",
   "mimetype": "text/x-python",
   "name": "python",
   "nbconvert_exporter": "python",
   "pygments_lexer": "ipython3",
   "version": "3.11.14"
  }
 },
 "nbformat": 4,
 "nbformat_minor": 5
}
